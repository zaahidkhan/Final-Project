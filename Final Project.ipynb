{
 "metadata": {
  "name": "",
  "signature": "sha256:78e0de9c06704cbc0e251aa0c8fed47e87befb52788b50a2e33c606ac5a5c844"
 },
 "nbformat": 3,
 "nbformat_minor": 0,
 "worksheets": [
  {
   "cells": [
    {
     "cell_type": "heading",
     "level": 1,
     "metadata": {},
     "source": [
      "Quant Trader"
     ]
    },
    {
     "cell_type": "heading",
     "level": 4,
     "metadata": {},
     "source": [
      "Zaahid Khan '17\n",
      "Tiffany Lee '17"
     ]
    },
    {
     "cell_type": "markdown",
     "metadata": {},
     "source": [
      "Functions:\n",
      "\n",
      "- Pull_Stock_Data: current and historical (300 day) price of all 500 stocks on S&P\n",
      "- Pull_Options_Data: pull greeks on options for 500 S&P stocks\n",
      "\n",
      "- Pairs_Trading: returns a list of (stock A, buy), (stock B, sell)\n",
      "- Bollinger_Band: returns a list of (stock A, buy)\n",
      "- Black_Scholes: returns a list of (option A, buy)"
     ]
    },
    {
     "cell_type": "code",
     "collapsed": false,
     "input": [
      "import numpy as np\n",
      "import scipy as sp\n",
      "import urllib"
     ],
     "language": "python",
     "metadata": {},
     "outputs": [],
     "prompt_number": 5
    },
    {
     "cell_type": "code",
     "collapsed": false,
     "input": [],
     "language": "python",
     "metadata": {},
     "outputs": []
    }
   ],
   "metadata": {}
  }
 ]
}